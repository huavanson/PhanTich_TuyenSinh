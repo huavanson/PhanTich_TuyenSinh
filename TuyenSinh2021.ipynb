{
  "nbformat": 4,
  "nbformat_minor": 0,
  "metadata": {
    "colab": {
      "name": "TuyenSinh2021.ipynb",
      "provenance": [],
      "mount_file_id": "1jjKVIjVdb9o0wcNdCZDgsX15TPE3VAu9",
      "authorship_tag": "ABX9TyOxDVRNl2+d+X+Jl1ZjaF15",
      "include_colab_link": true
    },
    "kernelspec": {
      "name": "python3",
      "display_name": "Python 3"
    },
    "language_info": {
      "name": "python"
    }
  },
  "cells": [
    {
      "cell_type": "markdown",
      "metadata": {
        "id": "view-in-github",
        "colab_type": "text"
      },
      "source": [
        "<a href=\"https://colab.research.google.com/github/huavanson/PhanTich_TuyenSinh/blob/master/TuyenSinh2021.ipynb\" target=\"_parent\"><img src=\"https://colab.research.google.com/assets/colab-badge.svg\" alt=\"Open In Colab\"/></a>"
      ]
    },
    {
      "cell_type": "markdown",
      "metadata": {
        "id": "5bXXS16O_m0N"
      },
      "source": [
        "# **PHÂN TÍCH ĐÁNH GIÁ KẾT QUẢ THI TUYỂN SINH 2021 DỰA TRÊN BẢNG SỐ LIỆU**"
      ]
    },
    {
      "cell_type": "markdown",
      "metadata": {
        "id": "ntFpO851__H9"
      },
      "source": [
        "**Bài phân tích bao gồm các nhận xét và các kết quả thống kê được từ dự liệu kết quả thi tuyển sinh năm 2021, sử dụng thư viện hỗ trợ chính Pandas và matplotlib**\n",
        "\n",
        "**Pipeline chính:**\n",
        "\n",
        "1.   Các bước Load và phân tích dữ liệu\n",
        "2.   Các kết quả thống kê và nhận xét\n",
        "\n",
        "\n",
        "\n",
        " \n"
      ]
    },
    {
      "cell_type": "markdown",
      "metadata": {
        "id": "RpaDfGcLDXZR"
      },
      "source": [
        "1.Các Bước Load và phân tích dữ liệu"
      ]
    },
    {
      "cell_type": "markdown",
      "metadata": {
        "id": "WOAzE1IgDh0E"
      },
      "source": [
        "Sử dụng pandas đọc dữ liệu \n",
        "\n",
        "\n"
      ]
    },
    {
      "cell_type": "code",
      "metadata": {
        "colab": {
          "base_uri": "https://localhost:8080/",
          "height": 469
        },
        "id": "1a-iN8sznj41",
        "outputId": "10163cac-7496-4126-b3e9-5589864b5e7e"
      },
      "source": [
        "import pandas as pd\n",
        "df = pd.read_csv('/content/drive/MyDrive/tuyensinh2021/2.csv')\n",
        "df"
      ],
      "execution_count": 2,
      "outputs": [
        {
          "output_type": "stream",
          "name": "stderr",
          "text": [
            "/usr/local/lib/python3.7/dist-packages/IPython/core/interactiveshell.py:2718: DtypeWarning: Columns (5) have mixed types.Specify dtype option on import or set low_memory=False.\n",
            "  interactivity=interactivity, compiler=compiler, result=result)\n"
          ]
        },
        {
          "output_type": "execute_result",
          "data": {
            "text/html": [
              "<div>\n",
              "<style scoped>\n",
              "    .dataframe tbody tr th:only-of-type {\n",
              "        vertical-align: middle;\n",
              "    }\n",
              "\n",
              "    .dataframe tbody tr th {\n",
              "        vertical-align: top;\n",
              "    }\n",
              "\n",
              "    .dataframe thead th {\n",
              "        text-align: right;\n",
              "    }\n",
              "</style>\n",
              "<table border=\"1\" class=\"dataframe\">\n",
              "  <thead>\n",
              "    <tr style=\"text-align: right;\">\n",
              "      <th></th>\n",
              "      <th>_id</th>\n",
              "      <th>_index</th>\n",
              "      <th>_score</th>\n",
              "      <th>_source</th>\n",
              "      <th>_type</th>\n",
              "      <th>kythi</th>\n",
              "    </tr>\n",
              "  </thead>\n",
              "  <tbody>\n",
              "    <tr>\n",
              "      <th>0</th>\n",
              "      <td>OND33noBrZdVKVdygoG1</td>\n",
              "      <td>student_thpt</td>\n",
              "      <td>0</td>\n",
              "      <td>{'examination_id': 1, 'name': '', 'sbd': '0100...</td>\n",
              "      <td>_doc</td>\n",
              "      <td>NaN</td>\n",
              "    </tr>\n",
              "    <tr>\n",
              "      <th>1</th>\n",
              "      <td>OdD33noBrZdVKVdygoHC</td>\n",
              "      <td>student_thpt</td>\n",
              "      <td>0</td>\n",
              "      <td>{'examination_id': 1, 'name': '', 'sbd': '0100...</td>\n",
              "      <td>_doc</td>\n",
              "      <td>NaN</td>\n",
              "    </tr>\n",
              "    <tr>\n",
              "      <th>2</th>\n",
              "      <td>OtD33noBrZdVKVdygoHT</td>\n",
              "      <td>student_thpt</td>\n",
              "      <td>0</td>\n",
              "      <td>{'examination_id': 1, 'name': '', 'sbd': '0100...</td>\n",
              "      <td>_doc</td>\n",
              "      <td>NaN</td>\n",
              "    </tr>\n",
              "    <tr>\n",
              "      <th>3</th>\n",
              "      <td>O9D33noBrZdVKVdygoHb</td>\n",
              "      <td>student_thpt</td>\n",
              "      <td>0</td>\n",
              "      <td>{'examination_id': 1, 'name': '', 'sbd': '0100...</td>\n",
              "      <td>_doc</td>\n",
              "      <td>NaN</td>\n",
              "    </tr>\n",
              "    <tr>\n",
              "      <th>4</th>\n",
              "      <td>PND33noBrZdVKVdygoHk</td>\n",
              "      <td>student_thpt</td>\n",
              "      <td>0</td>\n",
              "      <td>{'examination_id': 1, 'name': '', 'sbd': '0100...</td>\n",
              "      <td>_doc</td>\n",
              "      <td>NaN</td>\n",
              "    </tr>\n",
              "    <tr>\n",
              "      <th>...</th>\n",
              "      <td>...</td>\n",
              "      <td>...</td>\n",
              "      <td>...</td>\n",
              "      <td>...</td>\n",
              "      <td>...</td>\n",
              "      <td>...</td>\n",
              "    </tr>\n",
              "    <tr>\n",
              "      <th>899589</th>\n",
              "      <td>fOIsTnsBrZdVKVdyY7eG_v2</td>\n",
              "      <td>student_thpt</td>\n",
              "      <td>0</td>\n",
              "      <td>{'examination_id': 1, 'name': '', 'sbd': '5700...</td>\n",
              "      <td>_doc</td>\n",
              "      <td>2021_2_v2</td>\n",
              "    </tr>\n",
              "    <tr>\n",
              "      <th>899590</th>\n",
              "      <td>feIsTnsBrZdVKVdyY7eI_v2</td>\n",
              "      <td>student_thpt</td>\n",
              "      <td>0</td>\n",
              "      <td>{'examination_id': 1, 'name': '', 'sbd': '5700...</td>\n",
              "      <td>_doc</td>\n",
              "      <td>2021_2_v2</td>\n",
              "    </tr>\n",
              "    <tr>\n",
              "      <th>899591</th>\n",
              "      <td>fuIsTnsBrZdVKVdyY7eK_v2</td>\n",
              "      <td>student_thpt</td>\n",
              "      <td>0</td>\n",
              "      <td>{'examination_id': 1, 'name': '', 'sbd': '5700...</td>\n",
              "      <td>_doc</td>\n",
              "      <td>2021_2_v2</td>\n",
              "    </tr>\n",
              "    <tr>\n",
              "      <th>899592</th>\n",
              "      <td>f-IsTnsBrZdVKVdyY7eM_v2</td>\n",
              "      <td>student_thpt</td>\n",
              "      <td>0</td>\n",
              "      <td>{'examination_id': 1, 'name': '', 'sbd': '5700...</td>\n",
              "      <td>_doc</td>\n",
              "      <td>2021_2_v2</td>\n",
              "    </tr>\n",
              "    <tr>\n",
              "      <th>899593</th>\n",
              "      <td>gOIsTnsBrZdVKVdyY7eO_v2</td>\n",
              "      <td>student_thpt</td>\n",
              "      <td>0</td>\n",
              "      <td>{'examination_id': 1, 'name': '', 'sbd': '5700...</td>\n",
              "      <td>_doc</td>\n",
              "      <td>2021_2_v2</td>\n",
              "    </tr>\n",
              "  </tbody>\n",
              "</table>\n",
              "<p>899594 rows × 6 columns</p>\n",
              "</div>"
            ],
            "text/plain": [
              "                            _id        _index  ...  _type      kythi\n",
              "0          OND33noBrZdVKVdygoG1  student_thpt  ...   _doc        NaN\n",
              "1          OdD33noBrZdVKVdygoHC  student_thpt  ...   _doc        NaN\n",
              "2          OtD33noBrZdVKVdygoHT  student_thpt  ...   _doc        NaN\n",
              "3          O9D33noBrZdVKVdygoHb  student_thpt  ...   _doc        NaN\n",
              "4          PND33noBrZdVKVdygoHk  student_thpt  ...   _doc        NaN\n",
              "...                         ...           ...  ...    ...        ...\n",
              "899589  fOIsTnsBrZdVKVdyY7eG_v2  student_thpt  ...   _doc  2021_2_v2\n",
              "899590  feIsTnsBrZdVKVdyY7eI_v2  student_thpt  ...   _doc  2021_2_v2\n",
              "899591  fuIsTnsBrZdVKVdyY7eK_v2  student_thpt  ...   _doc  2021_2_v2\n",
              "899592  f-IsTnsBrZdVKVdyY7eM_v2  student_thpt  ...   _doc  2021_2_v2\n",
              "899593  gOIsTnsBrZdVKVdyY7eO_v2  student_thpt  ...   _doc  2021_2_v2\n",
              "\n",
              "[899594 rows x 6 columns]"
            ]
          },
          "metadata": {},
          "execution_count": 2
        }
      ]
    },
    {
      "cell_type": "code",
      "metadata": {
        "colab": {
          "base_uri": "https://localhost:8080/",
          "height": 52
        },
        "id": "dMAUVCJfEV0H",
        "outputId": "9775079e-6b33-42a6-d0fa-f99831e8532a"
      },
      "source": [
        "df['_source'][0]"
      ],
      "execution_count": 72,
      "outputs": [
        {
          "output_type": "execute_result",
          "data": {
            "application/vnd.google.colaboratory.intrinsic+json": {
              "type": "string"
            },
            "text/plain": [
              "\"{'examination_id': 1, 'name': '', 'sbd': '01000001', 'school_id': 49, 'score': 'Toán:2.20;Văn:3.50;Lí:;Hóa:;Sinh:;Sử:2.50;Địa:5.50;GDCD:;Ngoại Ngữ:;'}\""
            ]
          },
          "metadata": {},
          "execution_count": 72
        }
      ]
    },
    {
      "cell_type": "markdown",
      "metadata": {
        "id": "kPBBtlzXHVtc"
      },
      "source": [
        "Nhận xét đầu tiên về dataframe : \n",
        "\n",
        "1.   Có nhiều thông tin dư thừa không cần thiết cần được loại bỏ\n",
        "2.   Có thể thấy những thông tin quan trọng cần thiết nằm ở cột _source của dữ liệu bao gồm các điểm số của từng môn\n",
        "3.   Những cột điểm của một số môn không có điểm có thể là do thí sinh bỏ thi hoặc là thí sinh chọn thi theo tổ hợp KHTN hoặc tổ hợp KHXH   \n",
        "\n"
      ]
    },
    {
      "cell_type": "markdown",
      "metadata": {
        "id": "_lD5EkQcDyoD"
      },
      "source": [
        "Ta có thể lượt bỏ những thông tin không cần thiết ở những cột khác và rút trích những thông tin chủ yếu ở chỉ mục 'score' trong cột '_source'.  "
      ]
    },
    {
      "cell_type": "code",
      "metadata": {
        "colab": {
          "base_uri": "https://localhost:8080/"
        },
        "id": "BmBhWySTERxF",
        "outputId": "4bb80fd2-aa5c-4797-9b28-6a1aceda7bd6"
      },
      "source": [
        "from tqdm import tqdm\n",
        "#rút trích thông tin về điểm và lưu vào list a \n",
        "lst = [df.iloc[i]['_source'].split(\",\")[4][11:-2].split(\";\")[0:-1] for i in tqdm(range(len(df)))]\n",
        "a = [[i.split(\":\") for i in index] for index in tqdm(lst)]  "
      ],
      "execution_count": 3,
      "outputs": [
        {
          "output_type": "stream",
          "name": "stderr",
          "text": [
            "100%|██████████| 899594/899594 [02:23<00:00, 6277.99it/s]\n",
            "100%|██████████| 899594/899594 [00:16<00:00, 53301.29it/s]\n"
          ]
        }
      ]
    },
    {
      "cell_type": "markdown",
      "metadata": {
        "id": "l7NHqpyHEz_7"
      },
      "source": [
        "Tiếp theo lưu những thông tin về điểm vào 1 dataframe khác thuận tiện cho việc xử lí cũng như thống kê\n",
        " "
      ]
    },
    {
      "cell_type": "code",
      "metadata": {
        "id": "RXVVu_m-kLRR"
      },
      "source": [
        "math = []\n",
        "literature = []                           # tạo các list chứa điểm từng môn\n",
        "physical = []\n",
        "chemistry = []\n",
        "biology = [] \n",
        "history = []\n",
        "georophy = []\n",
        "gdcd = []\n",
        "eng = []\n",
        "for per in a :\n",
        "  for index in per :\n",
        "    if index[0]=='Toán':                  \n",
        "      if index[1]=='':\n",
        "        math.append(None)                   # những điểm nào bị trống sẽ lưu là none\n",
        "      else:\n",
        "        math.append(float(index[1]))        # ép kiểu từ string sang float\n",
        "    if index[0]=='Văn':\n",
        "      if index[1]=='':\n",
        "        literature.append(None)\n",
        "      else:\n",
        "        literature.append(float(index[1]))\n",
        "    if index[0]=='Lí':\n",
        "      if index[1]=='':\n",
        "        physical.append(None)\n",
        "      else:\n",
        "        physical.append(float(index[1]))\n",
        "    if index[0]=='Hóa':\n",
        "      if index[1]=='':\n",
        "        chemistry.append(None)\n",
        "      else:\n",
        "        chemistry.append(float(index[1]))\n",
        "    if index[0]=='Sinh':\n",
        "      if index[1]=='':\n",
        "        biology.append(None)\n",
        "      else:\n",
        "        biology.append(float(index[1]))\n",
        "    if index[0]=='Sử':\n",
        "      if index[1]=='':\n",
        "        history.append(None)\n",
        "      else:\n",
        "        history.append(float(index[1]))\n",
        "    if index[0]=='Địa':\n",
        "      if index[1]=='':\n",
        "        georophy.append(None)\n",
        "      else:\n",
        "        georophy.append(float(index[1]))\n",
        "    if index[0]=='GDCD':\n",
        "      if index[1]=='':\n",
        "        gdcd.append(None)\n",
        "      else:\n",
        "        gdcd.append(float(index[1])) \n",
        "    if index[0]=='Ngoại Ngữ':\n",
        "      if index[1]=='':\n",
        "        eng.append(None)\n",
        "      else:\n",
        "        eng.append(float(index[1]))            "
      ],
      "execution_count": 4,
      "outputs": []
    },
    {
      "cell_type": "code",
      "metadata": {
        "colab": {
          "base_uri": "https://localhost:8080/",
          "height": 415
        },
        "id": "FlSvExqblwdN",
        "outputId": "44a01a05-1515-4c71-8d92-91542af5837d"
      },
      "source": [
        "dic = {'Toán':math,'Văn':literature,'Anh':eng,              #tạo dataframe khác chỉ chứa điểm\n",
        "            'Lí':physical,'Hóa':chemistry,'Sinh':biology,\n",
        "            'Sử':history,'Địa':georophy,'GDCD':gdcd}\n",
        "point_df = pd.DataFrame(dic)\n",
        "point_df            "
      ],
      "execution_count": 5,
      "outputs": [
        {
          "output_type": "execute_result",
          "data": {
            "text/html": [
              "<div>\n",
              "<style scoped>\n",
              "    .dataframe tbody tr th:only-of-type {\n",
              "        vertical-align: middle;\n",
              "    }\n",
              "\n",
              "    .dataframe tbody tr th {\n",
              "        vertical-align: top;\n",
              "    }\n",
              "\n",
              "    .dataframe thead th {\n",
              "        text-align: right;\n",
              "    }\n",
              "</style>\n",
              "<table border=\"1\" class=\"dataframe\">\n",
              "  <thead>\n",
              "    <tr style=\"text-align: right;\">\n",
              "      <th></th>\n",
              "      <th>Toán</th>\n",
              "      <th>Văn</th>\n",
              "      <th>Anh</th>\n",
              "      <th>Lí</th>\n",
              "      <th>Hóa</th>\n",
              "      <th>Sinh</th>\n",
              "      <th>Sử</th>\n",
              "      <th>Địa</th>\n",
              "      <th>GDCD</th>\n",
              "    </tr>\n",
              "  </thead>\n",
              "  <tbody>\n",
              "    <tr>\n",
              "      <th>0</th>\n",
              "      <td>2.2</td>\n",
              "      <td>3.50</td>\n",
              "      <td>NaN</td>\n",
              "      <td>NaN</td>\n",
              "      <td>NaN</td>\n",
              "      <td>NaN</td>\n",
              "      <td>2.50</td>\n",
              "      <td>5.50</td>\n",
              "      <td>NaN</td>\n",
              "    </tr>\n",
              "    <tr>\n",
              "      <th>1</th>\n",
              "      <td>9.2</td>\n",
              "      <td>8.25</td>\n",
              "      <td>10.0</td>\n",
              "      <td>NaN</td>\n",
              "      <td>NaN</td>\n",
              "      <td>NaN</td>\n",
              "      <td>5.75</td>\n",
              "      <td>9.75</td>\n",
              "      <td>9.25</td>\n",
              "    </tr>\n",
              "    <tr>\n",
              "      <th>2</th>\n",
              "      <td>4.4</td>\n",
              "      <td>6.25</td>\n",
              "      <td>NaN</td>\n",
              "      <td>NaN</td>\n",
              "      <td>NaN</td>\n",
              "      <td>NaN</td>\n",
              "      <td>4.25</td>\n",
              "      <td>4.00</td>\n",
              "      <td>NaN</td>\n",
              "    </tr>\n",
              "    <tr>\n",
              "      <th>3</th>\n",
              "      <td>8.4</td>\n",
              "      <td>6.75</td>\n",
              "      <td>10.0</td>\n",
              "      <td>4.00</td>\n",
              "      <td>3.00</td>\n",
              "      <td>3.50</td>\n",
              "      <td>NaN</td>\n",
              "      <td>NaN</td>\n",
              "      <td>NaN</td>\n",
              "    </tr>\n",
              "    <tr>\n",
              "      <th>4</th>\n",
              "      <td>8.8</td>\n",
              "      <td>8.25</td>\n",
              "      <td>9.4</td>\n",
              "      <td>8.25</td>\n",
              "      <td>5.75</td>\n",
              "      <td>5.25</td>\n",
              "      <td>NaN</td>\n",
              "      <td>NaN</td>\n",
              "      <td>NaN</td>\n",
              "    </tr>\n",
              "    <tr>\n",
              "      <th>...</th>\n",
              "      <td>...</td>\n",
              "      <td>...</td>\n",
              "      <td>...</td>\n",
              "      <td>...</td>\n",
              "      <td>...</td>\n",
              "      <td>...</td>\n",
              "      <td>...</td>\n",
              "      <td>...</td>\n",
              "      <td>...</td>\n",
              "    </tr>\n",
              "    <tr>\n",
              "      <th>899589</th>\n",
              "      <td>7.8</td>\n",
              "      <td>6.50</td>\n",
              "      <td>7.2</td>\n",
              "      <td>7.25</td>\n",
              "      <td>7.25</td>\n",
              "      <td>8.00</td>\n",
              "      <td>NaN</td>\n",
              "      <td>NaN</td>\n",
              "      <td>NaN</td>\n",
              "    </tr>\n",
              "    <tr>\n",
              "      <th>899590</th>\n",
              "      <td>8.6</td>\n",
              "      <td>5.75</td>\n",
              "      <td>4.2</td>\n",
              "      <td>7.50</td>\n",
              "      <td>6.75</td>\n",
              "      <td>6.50</td>\n",
              "      <td>NaN</td>\n",
              "      <td>NaN</td>\n",
              "      <td>NaN</td>\n",
              "    </tr>\n",
              "    <tr>\n",
              "      <th>899591</th>\n",
              "      <td>8.0</td>\n",
              "      <td>6.25</td>\n",
              "      <td>5.2</td>\n",
              "      <td>8.50</td>\n",
              "      <td>7.75</td>\n",
              "      <td>6.75</td>\n",
              "      <td>NaN</td>\n",
              "      <td>NaN</td>\n",
              "      <td>NaN</td>\n",
              "    </tr>\n",
              "    <tr>\n",
              "      <th>899592</th>\n",
              "      <td>7.6</td>\n",
              "      <td>7.00</td>\n",
              "      <td>6.6</td>\n",
              "      <td>7.50</td>\n",
              "      <td>5.50</td>\n",
              "      <td>6.75</td>\n",
              "      <td>NaN</td>\n",
              "      <td>NaN</td>\n",
              "      <td>NaN</td>\n",
              "    </tr>\n",
              "    <tr>\n",
              "      <th>899593</th>\n",
              "      <td>7.8</td>\n",
              "      <td>7.00</td>\n",
              "      <td>7.6</td>\n",
              "      <td>7.25</td>\n",
              "      <td>6.25</td>\n",
              "      <td>8.00</td>\n",
              "      <td>NaN</td>\n",
              "      <td>NaN</td>\n",
              "      <td>NaN</td>\n",
              "    </tr>\n",
              "  </tbody>\n",
              "</table>\n",
              "<p>899594 rows × 9 columns</p>\n",
              "</div>"
            ],
            "text/plain": [
              "        Toán   Văn   Anh    Lí   Hóa  Sinh    Sử   Địa  GDCD\n",
              "0        2.2  3.50   NaN   NaN   NaN   NaN  2.50  5.50   NaN\n",
              "1        9.2  8.25  10.0   NaN   NaN   NaN  5.75  9.75  9.25\n",
              "2        4.4  6.25   NaN   NaN   NaN   NaN  4.25  4.00   NaN\n",
              "3        8.4  6.75  10.0  4.00  3.00  3.50   NaN   NaN   NaN\n",
              "4        8.8  8.25   9.4  8.25  5.75  5.25   NaN   NaN   NaN\n",
              "...      ...   ...   ...   ...   ...   ...   ...   ...   ...\n",
              "899589   7.8  6.50   7.2  7.25  7.25  8.00   NaN   NaN   NaN\n",
              "899590   8.6  5.75   4.2  7.50  6.75  6.50   NaN   NaN   NaN\n",
              "899591   8.0  6.25   5.2  8.50  7.75  6.75   NaN   NaN   NaN\n",
              "899592   7.6  7.00   6.6  7.50  5.50  6.75   NaN   NaN   NaN\n",
              "899593   7.8  7.00   7.6  7.25  6.25  8.00   NaN   NaN   NaN\n",
              "\n",
              "[899594 rows x 9 columns]"
            ]
          },
          "metadata": {},
          "execution_count": 5
        }
      ]
    },
    {
      "cell_type": "markdown",
      "metadata": {
        "id": "a0XHi6mpquNP"
      },
      "source": [
        "2.Các kết quả thống kê và nhận xét"
      ]
    },
    {
      "cell_type": "code",
      "metadata": {
        "colab": {
          "base_uri": "https://localhost:8080/",
          "height": 314
        },
        "id": "j1eeTBLWLleN",
        "outputId": "d41c4dc5-06c4-48ec-837d-00c2b5a90e1e"
      },
      "source": [
        "point_df.describe()"
      ],
      "execution_count": 73,
      "outputs": [
        {
          "output_type": "execute_result",
          "data": {
            "text/html": [
              "<div>\n",
              "<style scoped>\n",
              "    .dataframe tbody tr th:only-of-type {\n",
              "        vertical-align: middle;\n",
              "    }\n",
              "\n",
              "    .dataframe tbody tr th {\n",
              "        vertical-align: top;\n",
              "    }\n",
              "\n",
              "    .dataframe thead th {\n",
              "        text-align: right;\n",
              "    }\n",
              "</style>\n",
              "<table border=\"1\" class=\"dataframe\">\n",
              "  <thead>\n",
              "    <tr style=\"text-align: right;\">\n",
              "      <th></th>\n",
              "      <th>Toán</th>\n",
              "      <th>Văn</th>\n",
              "      <th>Anh</th>\n",
              "      <th>Lí</th>\n",
              "      <th>Hóa</th>\n",
              "      <th>Sinh</th>\n",
              "      <th>Sử</th>\n",
              "      <th>Địa</th>\n",
              "      <th>GDCD</th>\n",
              "    </tr>\n",
              "  </thead>\n",
              "  <tbody>\n",
              "    <tr>\n",
              "      <th>count</th>\n",
              "      <td>889808.000000</td>\n",
              "      <td>887489.000000</td>\n",
              "      <td>791574.000000</td>\n",
              "      <td>317303.000000</td>\n",
              "      <td>318931.000000</td>\n",
              "      <td>313908.000000</td>\n",
              "      <td>575242.000000</td>\n",
              "      <td>569855.000000</td>\n",
              "      <td>482142.000000</td>\n",
              "    </tr>\n",
              "    <tr>\n",
              "      <th>mean</th>\n",
              "      <td>6.583365</td>\n",
              "      <td>6.449120</td>\n",
              "      <td>5.793216</td>\n",
              "      <td>6.564115</td>\n",
              "      <td>6.668997</td>\n",
              "      <td>5.569586</td>\n",
              "      <td>4.997452</td>\n",
              "      <td>6.980423</td>\n",
              "      <td>8.405997</td>\n",
              "    </tr>\n",
              "    <tr>\n",
              "      <th>std</th>\n",
              "      <td>1.666258</td>\n",
              "      <td>1.351413</td>\n",
              "      <td>2.164455</td>\n",
              "      <td>1.377769</td>\n",
              "      <td>1.552080</td>\n",
              "      <td>1.430314</td>\n",
              "      <td>1.778398</td>\n",
              "      <td>1.175510</td>\n",
              "      <td>1.151162</td>\n",
              "    </tr>\n",
              "    <tr>\n",
              "      <th>min</th>\n",
              "      <td>0.600000</td>\n",
              "      <td>0.000000</td>\n",
              "      <td>0.000000</td>\n",
              "      <td>0.000000</td>\n",
              "      <td>0.000000</td>\n",
              "      <td>0.000000</td>\n",
              "      <td>0.000000</td>\n",
              "      <td>0.000000</td>\n",
              "      <td>0.000000</td>\n",
              "    </tr>\n",
              "    <tr>\n",
              "      <th>25%</th>\n",
              "      <td>5.400000</td>\n",
              "      <td>5.750000</td>\n",
              "      <td>4.000000</td>\n",
              "      <td>5.750000</td>\n",
              "      <td>5.750000</td>\n",
              "      <td>4.500000</td>\n",
              "      <td>3.500000</td>\n",
              "      <td>6.250000</td>\n",
              "      <td>7.750000</td>\n",
              "    </tr>\n",
              "    <tr>\n",
              "      <th>50%</th>\n",
              "      <td>7.000000</td>\n",
              "      <td>6.500000</td>\n",
              "      <td>5.600000</td>\n",
              "      <td>6.750000</td>\n",
              "      <td>7.000000</td>\n",
              "      <td>5.500000</td>\n",
              "      <td>4.750000</td>\n",
              "      <td>7.000000</td>\n",
              "      <td>8.750000</td>\n",
              "    </tr>\n",
              "    <tr>\n",
              "      <th>75%</th>\n",
              "      <td>7.800000</td>\n",
              "      <td>7.500000</td>\n",
              "      <td>7.600000</td>\n",
              "      <td>7.750000</td>\n",
              "      <td>7.750000</td>\n",
              "      <td>6.500000</td>\n",
              "      <td>6.250000</td>\n",
              "      <td>7.750000</td>\n",
              "      <td>9.250000</td>\n",
              "    </tr>\n",
              "    <tr>\n",
              "      <th>max</th>\n",
              "      <td>10.000000</td>\n",
              "      <td>10.000000</td>\n",
              "      <td>10.000000</td>\n",
              "      <td>10.000000</td>\n",
              "      <td>10.000000</td>\n",
              "      <td>10.000000</td>\n",
              "      <td>10.000000</td>\n",
              "      <td>10.000000</td>\n",
              "      <td>10.000000</td>\n",
              "    </tr>\n",
              "  </tbody>\n",
              "</table>\n",
              "</div>"
            ],
            "text/plain": [
              "                Toán            Văn  ...            Địa           GDCD\n",
              "count  889808.000000  887489.000000  ...  569855.000000  482142.000000\n",
              "mean        6.583365       6.449120  ...       6.980423       8.405997\n",
              "std         1.666258       1.351413  ...       1.175510       1.151162\n",
              "min         0.600000       0.000000  ...       0.000000       0.000000\n",
              "25%         5.400000       5.750000  ...       6.250000       7.750000\n",
              "50%         7.000000       6.500000  ...       7.000000       8.750000\n",
              "75%         7.800000       7.500000  ...       7.750000       9.250000\n",
              "max        10.000000      10.000000  ...      10.000000      10.000000\n",
              "\n",
              "[8 rows x 9 columns]"
            ]
          },
          "metadata": {},
          "execution_count": 73
        }
      ]
    },
    {
      "cell_type": "markdown",
      "metadata": {
        "id": "BLQtecIyLtKc"
      },
      "source": [
        "\n",
        "\n",
        "1.   Cột Mean cho thấy điểm trung bình môn thi của tất cả thí sinh \n",
        "2.   Có tổng cộng gần 900000 thí sinh trong đó GDCD là môn có điểm thi trung bình cao nhất là 8.4 và môn Sử có điểm thi trung bình thấp nhất là 4.99\n",
        "3.    Nhìn chung tất cả các môn đều có thí sinh đạt 10 và có thí sinh bị điểm 0 ngoại trừ môn Toán (thí sinh thấp nhất là 0.6)\n",
        "\n"
      ]
    },
    {
      "cell_type": "markdown",
      "metadata": {
        "id": "GTsOPe-OJurS"
      },
      "source": [
        "Thống kê số lượng thí sinh bị liệt do có điểm thi dưới 1"
      ]
    },
    {
      "cell_type": "code",
      "metadata": {
        "id": "NHG-jbeK1jlY"
      },
      "source": [
        "def count_paralyzed(lst): # hàm thống kê điểm liệt cho từng môn\n",
        "  count = 0\n",
        "  for i in lst :\n",
        "    if i != None:    # <= 1  liệt\n",
        "      if i<=1.0:\n",
        "        count +=1\n",
        "  return count"
      ],
      "execution_count": 38,
      "outputs": []
    },
    {
      "cell_type": "code",
      "metadata": {
        "id": "6xKg2yzx3zGw"
      },
      "source": [
        "count_math = count_paralyzed(math)\n",
        "count_lit = count_paralyzed(literature)\n",
        "count_eng = count_paralyzed(eng)\n",
        "count_phy = count_paralyzed(physical)\n",
        "count_bio = count_paralyzed(biology)\n",
        "count_che = count_paralyzed(chemistry)\n",
        "count_his = count_paralyzed(history)\n",
        "count_geo = count_paralyzed(georophy)\n",
        "count_gdcd = count_paralyzed(gdcd)"
      ],
      "execution_count": 40,
      "outputs": []
    },
    {
      "cell_type": "code",
      "metadata": {
        "colab": {
          "base_uri": "https://localhost:8080/",
          "height": 352
        },
        "id": "Fzuc3Qov4wzK",
        "outputId": "37e4f03a-ecd5-4e1d-9382-9c78bebf4dcd"
      },
      "source": [
        "import numpy as np\n",
        "import matplotlib.pyplot as plt\n",
        "\n",
        "data = {'Toán':count_math, 'Văn':count_lit,\n",
        "        'Anh':count_eng,'Lí':count_phy,\n",
        "        'Hóa':count_che,'Sinh':count_bio,\n",
        "        'Sử':count_his,'Địa':count_geo,\n",
        "        'GDCD':count_gdcd,}\n",
        "nums = list(data.keys())\n",
        "values = list(data.values())\n",
        "  \n",
        "fig = plt.figure(figsize = (10, 5))\n",
        " \n",
        "plt.bar(nums, values, color ='darkblue',\n",
        "        width = 0.4)\n",
        " \n",
        "plt.xlabel(\"Môn thi\")\n",
        "plt.ylabel(\"Số lượng thí sinh\")\n",
        "plt.title(\"SỐ LƯỢNG THÍ SINH BỊ ĐIỂM LIỆT Ở TỪNG MÔN\")\n",
        "plt.show()"
      ],
      "execution_count": 44,
      "outputs": [
        {
          "output_type": "display_data",
          "data": {
            "image/png": "[encoded data removed]",
            "text/plain": [
              "<Figure size 720x360 with 1 Axes>"
            ]
          },
          "metadata": {
            "needs_background": "light"
          }
        }
      ]
    },
    {
      "cell_type": "markdown",
      "metadata": {
        "id": "dJB6-8N7J9lI"
      },
      "source": [
        "Từ Biểu đồ SỐ LƯỢNG THÍ SINH BỊ ĐIỂM LIỆT Ở TỪNG MÔN cho thấy môn Sử có số lượng thí sinh bị điểm dưới 1 cao nhất và ngược lại môn Lí có số lượng thí sinh bị điểm liệt ít nhất"
      ]
    },
    {
      "cell_type": "markdown",
      "metadata": {
        "id": "EvHHStGfLFtk"
      },
      "source": [
        "Phổ điểm môn Toán 2021"
      ]
    },
    {
      "cell_type": "code",
      "metadata": {
        "colab": {
          "base_uri": "https://localhost:8080/",
          "height": 403
        },
        "id": "IuIZRw6Aq4JA",
        "outputId": "9948dd00-55f3-4911-807f-f3fbd9f5bc5d"
      },
      "source": [
        "ax = point_df['Toán'].value_counts().sort_index().plot(kind='bar', figsize=(14,6))\n",
        "ax.set_ylabel('Phổ điểm Toán')"
      ],
      "execution_count": null,
      "outputs": [
        {
          "output_type": "execute_result",
          "data": {
            "text/plain": [
              "Text(0, 0.5, 'Phổ điểm Toán')"
            ]
          },
          "metadata": {},
          "execution_count": 220
        },
        {
          "output_type": "display_data",
          "data": {
            "image/png": "[encoded data removed]",
            "text/plain": [
              "<Figure size 1008x432 with 1 Axes>"
            ]
          },
          "metadata": {
            "needs_background": "light"
          }
        }
      ]
    },
    {
      "cell_type": "markdown",
      "metadata": {
        "id": "j4cRxGhDLa81"
      },
      "source": [
        "Nhận xét :\n",
        "\n",
        "1.   Số lượng thí sinh đạt từ 7 đến 9 điểm khá cao cho thấy đề Toán năm nay ở mức độ dễ so với mọi năm  \n",
        "2.   8 là điểm mà nhiều thí sinh tham gia thi toán đạt được nhiều nhất dựa vào biểu đồ \n",
        "3.   Điểm trung bình của môn Toán là 6.58\n",
        "\n"
      ]
    },
    {
      "cell_type": "markdown",
      "metadata": {
        "id": "PootNfTdLLjM"
      },
      "source": [
        "Phổ điểm môn Văn 2021"
      ]
    },
    {
      "cell_type": "code",
      "metadata": {
        "colab": {
          "base_uri": "https://localhost:8080/"
        },
        "id": "Oivd25J4xDyn",
        "outputId": "99cd61d1-132e-43e4-cd6a-362a3ac3f273"
      },
      "source": [
        "element_not_none = [literature[i] for i in range(len(literature)) if literature[i]!=None] #check if not none \n",
        "wrong_point = [i for i in element_not_none if i%0.25!=0] # những điểm không nằm trong [0.25,0.5,0.75,1]\n",
        "len(wrong_point)"
      ],
      "execution_count": 32,
      "outputs": [
        {
          "output_type": "execute_result",
          "data": {
            "text/plain": [
              "5876"
            ]
          },
          "metadata": {},
          "execution_count": 32
        }
      ]
    },
    {
      "cell_type": "code",
      "metadata": {
        "colab": {
          "base_uri": "https://localhost:8080/",
          "height": 403
        },
        "id": "85DByvl9CMAJ",
        "outputId": "52330d58-9a33-43bc-d30f-787f30649c5d"
      },
      "source": [
        "ax = point_df['Văn'].value_counts().sort_index().drop(labels=wrong_point).plot(kind='bar', figsize=(14,6))\n",
        "ax.set_ylabel('Phổ điểm Văn')"
      ],
      "execution_count": 29,
      "outputs": [
        {
          "output_type": "execute_result",
          "data": {
            "text/plain": [
              "Text(0, 0.5, 'Phổ điểm Văn')"
            ]
          },
          "metadata": {},
          "execution_count": 29
        },
        {
          "output_type": "display_data",
          "data": {
            "image/png": "[encoded data removed]",
            "text/plain": [
              "<Figure size 1008x432 with 1 Axes>"
            ]
          },
          "metadata": {
            "needs_background": "light"
          }
        }
      ]
    },
    {
      "cell_type": "markdown",
      "metadata": {
        "id": "vOSnze9UN-ta"
      },
      "source": [
        "Nhận xét :\n",
        "\n",
        "\n",
        "1.   Điểm trung bình của môn Văn là 6.44\n",
        "2.   7.0 là điểm mà nhiều thí sinh tham gia môn Văn đạt được nhiều nhất\n",
        "3.   số lượng thí sinh đạt điểm từ 6 đến 7 khá cao cho thấy đề Văn năm nay cũng rất vừa sức đối với các thí sinh \n",
        "\n"
      ]
    },
    {
      "cell_type": "markdown",
      "metadata": {
        "id": "jxaGCKboq4td"
      },
      "source": [
        "Phổ điểm môn Ngoại ngữ 2021\n"
      ]
    },
    {
      "cell_type": "code",
      "metadata": {
        "colab": {
          "base_uri": "https://localhost:8080/",
          "height": 403
        },
        "id": "ZwzQVtboCRXC",
        "outputId": "0454fc6d-fe85-46a2-9851-a16a58d77291"
      },
      "source": [
        "ax = point_df['Anh'].value_counts().sort_index().plot(kind='bar', figsize=(14,6))\n",
        "ax.set_ylabel('Phổ điểm Ngoại ngữ')"
      ],
      "execution_count": null,
      "outputs": [
        {
          "output_type": "execute_result",
          "data": {
            "text/plain": [
              "Text(0, 0.5, 'Phổ điểm Ngoại ngữ')"
            ]
          },
          "metadata": {},
          "execution_count": 222
        },
        {
          "output_type": "display_data",
          "data": {
            "image/png": "[encoded data removed]",
            "text/plain": [
              "<Figure size 1008x432 with 1 Axes>"
            ]
          },
          "metadata": {
            "needs_background": "light"
          }
        }
      ]
    },
    {
      "cell_type": "markdown",
      "metadata": {
        "id": "pzLTvoqYPUuL"
      },
      "source": [
        "Nhận xét:\n",
        "\n",
        "\n",
        "1.   Điểm trung bình môn Anh là 5.79\n",
        "2.   Số lượng thí sinh đạt điểm 4 là cao nhất \n",
        "3.   Nhìn vào biểu đồ ta thấy rõ sự phân bố khá đồng đều về mặt điểm số cho thấy đề Anh năm nay có sự phân hóa khá giỏi và trung bình rất tốt \n",
        "\n"
      ]
    },
    {
      "cell_type": "markdown",
      "metadata": {
        "id": "_9T5vhLSq8Ko"
      },
      "source": [
        "Phổ điểm môn Lý 2021"
      ]
    },
    {
      "cell_type": "code",
      "metadata": {
        "colab": {
          "base_uri": "https://localhost:8080/",
          "height": 403
        },
        "id": "3RiOXAtUCRz_",
        "outputId": "28fa5ebe-69ec-430a-b75d-81c42f6f0520"
      },
      "source": [
        "ax = point_df['Lí'].value_counts().sort_index().plot(kind='bar', figsize=(14,6))\n",
        "ax.set_ylabel('Phổ điểm Lý')"
      ],
      "execution_count": null,
      "outputs": [
        {
          "output_type": "execute_result",
          "data": {
            "text/plain": [
              "Text(0, 0.5, 'Phổ điểm Lý')"
            ]
          },
          "metadata": {},
          "execution_count": 224
        },
        {
          "output_type": "display_data",
          "data": {
            "image/png": "[encoded data removed]",
            "text/plain": [
              "<Figure size 1008x432 with 1 Axes>"
            ]
          },
          "metadata": {
            "needs_background": "light"
          }
        }
      ]
    },
    {
      "cell_type": "markdown",
      "metadata": {
        "id": "CJ5j2yeOQY6v"
      },
      "source": [
        "Nhận xét:\n",
        "\n",
        "\n",
        "1.   Điểm trung bình của môn Lý là 6.56 \n",
        "2.   Số lượng thí sinh đạt 7.5 là cao nhất\n",
        "3.   Đề Lý năm nay có thể thấy không quá khó, cụ thể tập trung ở thang điểm 6 - 8 \n"
      ]
    },
    {
      "cell_type": "markdown",
      "metadata": {
        "id": "YYBZhZ9DrAwg"
      },
      "source": [
        "Phổ điểm môn Hóa 2021"
      ]
    },
    {
      "cell_type": "code",
      "metadata": {
        "colab": {
          "base_uri": "https://localhost:8080/",
          "height": 403
        },
        "id": "RhV1UaanCTQt",
        "outputId": "0e0ee356-19eb-436a-d390-692db404e77b"
      },
      "source": [
        "ax = point_df['Hóa'].value_counts().sort_index().plot(kind='bar', figsize=(14,6))\n",
        "ax.set_ylabel('Phổ điểm Hóa')"
      ],
      "execution_count": null,
      "outputs": [
        {
          "output_type": "execute_result",
          "data": {
            "text/plain": [
              "Text(0, 0.5, 'Phổ điểm Hóa')"
            ]
          },
          "metadata": {},
          "execution_count": 225
        },
        {
          "output_type": "display_data",
          "data": {
            "image/png": "[encoded data removed]",
            "text/plain": [
              "<Figure size 1008x432 with 1 Axes>"
            ]
          },
          "metadata": {
            "needs_background": "light"
          }
        }
      ]
    },
    {
      "cell_type": "markdown",
      "metadata": {
        "id": "zfCmY6wzRBBo"
      },
      "source": [
        "Nhận xét:\n",
        "\n",
        "\n",
        "1.   Điểm trung bình của môn hóa là 6.66\n",
        "2.   7.75 là số điểm mà nhiều thí sinh đạt được được nhất\n",
        "3.   Đề hóa có độ phân hóa và độ khó cũng tương đồng như đề lí chủ yếu tập trung ở thang điểm 7-8 \n",
        "\n"
      ]
    },
    {
      "cell_type": "markdown",
      "metadata": {
        "id": "C5IqCbWqrDq8"
      },
      "source": [
        "Phổ điểm môn Sinh 2021"
      ]
    },
    {
      "cell_type": "code",
      "metadata": {
        "colab": {
          "base_uri": "https://localhost:8080/",
          "height": 403
        },
        "id": "iq32X51dCTmk",
        "outputId": "f3a5c905-69fb-4291-86b2-0b779ad8e47b"
      },
      "source": [
        "ax = point_df['Sinh'].value_counts().sort_index().plot(kind='bar', figsize=(14,6))\n",
        "ax.set_ylabel('Phổ điểm Sinh')"
      ],
      "execution_count": null,
      "outputs": [
        {
          "output_type": "execute_result",
          "data": {
            "text/plain": [
              "Text(0, 0.5, 'Phổ điểm Sinh')"
            ]
          },
          "metadata": {},
          "execution_count": 226
        },
        {
          "output_type": "display_data",
          "data": {
            "image/png": "[encoded data removed]",
            "text/plain": [
              "<Figure size 1008x432 with 1 Axes>"
            ]
          },
          "metadata": {
            "needs_background": "light"
          }
        }
      ]
    },
    {
      "cell_type": "markdown",
      "metadata": {
        "id": "P3eahTthRuRk"
      },
      "source": [
        "Nhận xét:\n",
        "\n",
        "\n",
        "1.   Điểm trung bình của môn Sinh là 5.56\n",
        "2.   Mức điểm mà nhiều thí sinh đạt được là 5,25\n",
        "3.   Có thể thấy mức độ khó của đề môn Sinh cao hơn so với Hóa và Lý  \n",
        "\n"
      ]
    },
    {
      "cell_type": "markdown",
      "metadata": {
        "id": "S6MA6O9vrF9S"
      },
      "source": [
        "Phổ điểm môn Sử 2021"
      ]
    },
    {
      "cell_type": "code",
      "metadata": {
        "colab": {
          "base_uri": "https://localhost:8080/",
          "height": 403
        },
        "id": "bFCDJs7VCUMV",
        "outputId": "3bc185e4-9b7a-4c29-f87a-49eb53b1d8da"
      },
      "source": [
        "ax = point_df['Sử'].value_counts().sort_index().plot(kind='bar', figsize=(14,6))\n",
        "ax.set_ylabel('Phổ điểm Sử')"
      ],
      "execution_count": null,
      "outputs": [
        {
          "output_type": "execute_result",
          "data": {
            "text/plain": [
              "Text(0, 0.5, 'Phổ điểm Sử')"
            ]
          },
          "metadata": {},
          "execution_count": 227
        },
        {
          "output_type": "display_data",
          "data": {
            "image/png": "[encoded data removed]",
            "text/plain": [
              "<Figure size 1008x432 with 1 Axes>"
            ]
          },
          "metadata": {
            "needs_background": "light"
          }
        }
      ]
    },
    {
      "cell_type": "markdown",
      "metadata": {
        "id": "6knJSJOZgVK_"
      },
      "source": [
        "Nhận xét:\n",
        "\n",
        "\n",
        "1.   Điểm trung bình của môn sử là thấp nhất trong các môn là 4.99\n",
        "2.   Có thể thấy mức điểm nhiều thí sinh đạt được chỉ ở 4.0\n",
        "\n",
        "\n"
      ]
    },
    {
      "cell_type": "markdown",
      "metadata": {
        "id": "u2k6xFtDrI-j"
      },
      "source": [
        "Phổ điểm môn Địa 2021"
      ]
    },
    {
      "cell_type": "code",
      "metadata": {
        "colab": {
          "base_uri": "https://localhost:8080/",
          "height": 403
        },
        "id": "8M5g1C-DCU0_",
        "outputId": "a3c0126c-d5bf-426e-f203-78b307857be4"
      },
      "source": [
        "ax = point_df['Địa'].value_counts().sort_index().plot(kind='bar', figsize=(14,6))\n",
        "ax.set_ylabel('Phổ điểm Địa')"
      ],
      "execution_count": null,
      "outputs": [
        {
          "output_type": "execute_result",
          "data": {
            "text/plain": [
              "Text(0, 0.5, 'Phổ điểm Địa')"
            ]
          },
          "metadata": {},
          "execution_count": 228
        },
        {
          "output_type": "display_data",
          "data": {
            "image/png": "[encoded data removed]",
            "text/plain": [
              "<Figure size 1008x432 with 1 Axes>"
            ]
          },
          "metadata": {
            "needs_background": "light"
          }
        }
      ]
    },
    {
      "cell_type": "markdown",
      "metadata": {
        "id": "hu5OO9uQg37W"
      },
      "source": [
        "Nhận xét:\n",
        "\n",
        "\n",
        "1.   Điểm trung bình môn địa là 6.98\n",
        "2.   Có thể thấy mức độ khó của môn địa dễ hơn môn sử rất nhiều, có nhiều thí sinh đạt điểm 7\n",
        "\n"
      ]
    },
    {
      "cell_type": "markdown",
      "metadata": {
        "id": "4VVuqY9qrLG5"
      },
      "source": [
        "Phổ điểm môn GDCD 2021"
      ]
    },
    {
      "cell_type": "code",
      "metadata": {
        "colab": {
          "base_uri": "https://localhost:8080/",
          "height": 403
        },
        "id": "ljXx4JoJCVGH",
        "outputId": "07c12ef6-77f2-406b-80ae-4c410eb03aa0"
      },
      "source": [
        "ax = point_df['GDCD'].value_counts().sort_index().plot(kind='bar', figsize=(14,6))\n",
        "ax.set_ylabel('Phổ điểm GDCD')"
      ],
      "execution_count": null,
      "outputs": [
        {
          "output_type": "execute_result",
          "data": {
            "text/plain": [
              "Text(0, 0.5, 'Phổ điểm GDCD')"
            ]
          },
          "metadata": {},
          "execution_count": 229
        },
        {
          "output_type": "display_data",
          "data": {
            "image/png": "[encoded data removed]",
            "text/plain": [
              "<Figure size 1008x432 with 1 Axes>"
            ]
          },
          "metadata": {
            "needs_background": "light"
          }
        }
      ]
    },
    {
      "cell_type": "markdown",
      "metadata": {
        "id": "yfqTmP0RhSTX"
      },
      "source": [
        "Nhận xét:\n",
        "\n",
        "\n",
        "1.   Đây là môn có điểm trung bình cao nhất 8.4\n",
        "2.   Nhìn vào biểu đồ có thể thấy được rất nhiều thí sinh đạt được điểm tuyệt đối và 9 là mức mà nhiều thí sinh đạt được nhất\n",
        "\n"
      ]
    },
    {
      "cell_type": "markdown",
      "metadata": {
        "id": "4a75eve-hqtG"
      },
      "source": [
        "Tiếp theo ta phân tích theo từng tổ hợp các môn mà thí sinh sẽ lựa chọn thi bao gồm số lượng các thí sinh của từng khối, phổ điểm của các khối môn phổ biến mà thí sinh hay chọn như A,A1,B,C,D. Ngoài ra thống kê số thí sinh rớt tốt nghiệp do bị điểm liệt\n"
      ]
    },
    {
      "cell_type": "markdown",
      "metadata": {
        "id": "W5o5KocDipgQ"
      },
      "source": [
        " BỊ ĐIỂM LIỆT\n",
        "\n",
        "\n",
        "\n",
        "*   Điểm liệt trong kỳ thi tốt nghiệp THPT tức là điểm để giới hạn thí sinh đó có đủ điều kiện để được công nhận tốt nghiệp hay không. Theo quy chế tuyển sinh, tất cả các bài thi và các môn thi thành phần của bài thi tổ hợp lấy điểm để xét công nhận tốt nghiệp đều phải đạt trên 1,0 điểm. Như vậy nếu đạt điểm 1,0 điểm hoặc dưới 1,0 điểm, điểm sẽ bị coi là \"điểm liệt\".\n",
        "*   Theo đó, thí sinh đủ điều kiện xét tốt nghiệp là khi tất cả các bài thi và các môn thi thành phần của bài thi tổ hợp lấy điểm để xét công nhận tốt nghiệp đều phải đạt trên 1,0 điểm theo thang điểm 10. \n",
        "\n",
        "\n"
      ]
    },
    {
      "cell_type": "code",
      "metadata": {
        "id": "GuN-WTx2sO3k"
      },
      "source": [
        "import numpy as np\n",
        "#các dữ liệu được phân ra thành 2 dataframe \n",
        "#khtn nếu thí sinh chỉ có điểm Lí Hóa Sinh mà không có Sử Địa GDCD và ngược lại \n",
        "khxh = point_df.loc[(point_df['Lí'].isna()) & (point_df['Hóa'].isna()) & (point_df['Sinh'].isna())].reset_index()\n",
        "khtn = point_df.loc[(point_df['Sử'].isna()) & (point_df['Địa'].isna()) & (point_df['GDCD'].isna())].reset_index()"
      ],
      "execution_count": 45,
      "outputs": []
    },
    {
      "cell_type": "code",
      "metadata": {
        "colab": {
          "base_uri": "https://localhost:8080/",
          "height": 352
        },
        "id": "g8BQ0V9VwU5x",
        "outputId": "77eacee9-88b7-4037-81ff-b674d677baf5"
      },
      "source": [
        "import numpy as np\n",
        "import matplotlib.pyplot as plt\n",
        "\n",
        "data = {'KHTN':len(khtn), 'KHXH':len(khxh)}       #visualize dữ liệu\n",
        "nums = list(data.keys())\n",
        "values = list(data.values())\n",
        "  \n",
        "fig = plt.figure(figsize = (10, 5))\n",
        " \n",
        "plt.bar(nums, values, color ='darkblue',\n",
        "        width = 0.4)\n",
        " \n",
        "plt.xlabel(\"Khối\")\n",
        "plt.ylabel(\"Số lượng thí sinh\")\n",
        "plt.title(\"SỐ LƯỢNG THÍ SINH CỦA 2 KHỐI\")\n",
        "plt.show()"
      ],
      "execution_count": 46,
      "outputs": [
        {
          "output_type": "display_data",
          "data": {
            "image/png": "[encoded data removed]",
            "text/plain": [
              "<Figure size 720x360 with 1 Axes>"
            ]
          },
          "metadata": {
            "needs_background": "light"
          }
        }
      ]
    },
    {
      "cell_type": "markdown",
      "metadata": {
        "id": "KV4Mubc3kQC2"
      },
      "source": [
        "Có thể thấy năm 2021 số lượng thí sinh tham gia thi tổ hợp KHXH cao gần gấp đôi số lượng thí sinh tham gia thi tổ hợp KHTN. Tiếp theo ta sẽ thống kê xem có bao nhiêu thí sinh sẽ bị rớt tốt nghiệp do bị điểm liệt"
      ]
    },
    {
      "cell_type": "code",
      "metadata": {
        "colab": {
          "base_uri": "https://localhost:8080/",
          "height": 352
        },
        "id": "-ZWcAV1m7q5M",
        "outputId": "7974fbc2-14e3-42ea-effd-fcea791b4981"
      },
      "source": [
        "khtn_para = len(khtn[(khtn['Toán']<=1) | (khtn['Văn']<=1) | (khtn['Anh']<=1) | \n",
        "         (khtn['Lí']<=1) | (khtn['Hóa']<=1) | (khtn['Sinh']<=1)])\n",
        "khxh_para = len(khxh[(khxh['Toán']<=1) | (khxh['Văn']<=1) | (khxh['Anh']<=1) | \n",
        "         (khxh['Sử']<=1) | (khtn['Địa']<=1) | (khtn['GDCD']<=1)])\n",
        "data = {'KHTN':khtn_para, 'KHXH':khxh_para}\n",
        "nums = list(data.keys())\n",
        "values = list(data.values())\n",
        "  \n",
        "fig = plt.figure(figsize = (10, 5))\n",
        " \n",
        "plt.bar(nums, values, color ='darkblue',\n",
        "        width = 0.4)\n",
        " \n",
        "plt.xlabel(\"Khối\")\n",
        "plt.ylabel(\"Số lượng thí sinh\")\n",
        "plt.title(\"SỐ LƯỢNG THÍ SINH BỊ RỚT TỐT NGHIỆP CỦA 2 KHỐI\")\n",
        "plt.show()"
      ],
      "execution_count": 70,
      "outputs": [
        {
          "output_type": "display_data",
          "data": {
            "image/png": "[encoded data removed]",
            "text/plain": [
              "<Figure size 720x360 with 1 Axes>"
            ]
          },
          "metadata": {
            "needs_background": "light"
          }
        }
      ]
    },
    {
      "cell_type": "code",
      "metadata": {
        "colab": {
          "base_uri": "https://localhost:8080/"
        },
        "id": "UuU1cdmisj5J",
        "outputId": "59a3e65b-b674-4cab-d749-4079766e5929"
      },
      "source": [
        "print('Số thí sinh rớt tốt nghiệp do điểm liệt: ',khtn_para+khxh_para)\n",
        "print(100-((khtn_para+khxh_para)/len(point_df))/100)"
      ],
      "execution_count": 88,
      "outputs": [
        {
          "output_type": "stream",
          "name": "stdout",
          "text": [
            "Số thí sinh rớt tốt nghiệp do điểm liệt:  957\n",
            "99.99998936186769\n"
          ]
        }
      ]
    },
    {
      "cell_type": "markdown",
      "metadata": {
        "id": "Dc8gz-uOsiW8"
      },
      "source": [
        "Nhận xét: \n",
        "\n",
        "1.   Số thí sinh rớt tốt nghiệp do liệt là 957 thí sinh\n",
        "2.   Vậy dựa trên số liệu ta có thể thấy đến 99% thí sinh Không bị điểm liệt. Để xét tốt nghiệp còn phải xem xét thêm những điều kiện khác\n",
        "\n"
      ]
    },
    {
      "cell_type": "markdown",
      "metadata": {
        "id": "9n_lLGaMkp6v"
      },
      "source": [
        "Thống kê phổ điểm của các khối phổ biến (A,A1,B,C,D).\n",
        "\n",
        "Các khối A, A1, B sẽ được tính dựa trên dataframe KHTN. Khối C sẽ được tính dựa trên dataframe KHXH. Riêng khối D sẽ được tính dựa trên dataframe của tất cả thí sinh vì khối D bao gồm cả ba môn bắt buộc là (Toán, Văn, Anh)"
      ]
    },
    {
      "cell_type": "markdown",
      "metadata": {
        "id": "RJ90NISAjkGo"
      },
      "source": [
        "Điểm của từng khối sẽ được tính dựa trên tổng điểm các môn thuộc khối đó\n",
        "\n",
        "ví dụ:khối A gồm toán, lý, hóa. Thí sinh NVA thi được(Toán:8,Lí:9,Hóa:10 => điểm khối A của thí sinh đó là 27\n",
        "\n",
        "lưu ý: điểm được tính không bao gồm điểm cộng"
      ]
    },
    {
      "cell_type": "code",
      "metadata": {
        "id": "VCnWaWP-xRuF"
      },
      "source": [
        "khtn['Khối A'] = khtn['Toán']+khtn['Lí']+khtn['Hóa']\n",
        "khtn['Khối A1'] = khtn['Toán']+khtn['Lí']+khtn['Anh']\n",
        "khtn['Khối B'] = khtn['Toán']+khtn['Hóa']+khtn['Sinh']\n",
        "khxh['Khối C'] = khxh['Văn']+khxh['Sử']+khxh['Địa']\n",
        "point_df['Khối D'] = point_df['Toán']+point_df['Văn']+point_df['Anh']"
      ],
      "execution_count": 75,
      "outputs": []
    },
    {
      "cell_type": "code",
      "metadata": {
        "colab": {
          "base_uri": "https://localhost:8080/",
          "height": 415
        },
        "id": "dnRCgjJs6QXO",
        "outputId": "129834e0-3ac8-4e4a-ed1c-e1b2a4a452da"
      },
      "source": [
        "khtn"
      ],
      "execution_count": 76,
      "outputs": [
        {
          "output_type": "execute_result",
          "data": {
            "text/html": [
              "<div>\n",
              "<style scoped>\n",
              "    .dataframe tbody tr th:only-of-type {\n",
              "        vertical-align: middle;\n",
              "    }\n",
              "\n",
              "    .dataframe tbody tr th {\n",
              "        vertical-align: top;\n",
              "    }\n",
              "\n",
              "    .dataframe thead th {\n",
              "        text-align: right;\n",
              "    }\n",
              "</style>\n",
              "<table border=\"1\" class=\"dataframe\">\n",
              "  <thead>\n",
              "    <tr style=\"text-align: right;\">\n",
              "      <th></th>\n",
              "      <th>index</th>\n",
              "      <th>Toán</th>\n",
              "      <th>Văn</th>\n",
              "      <th>Anh</th>\n",
              "      <th>Lí</th>\n",
              "      <th>Hóa</th>\n",
              "      <th>Sinh</th>\n",
              "      <th>Sử</th>\n",
              "      <th>Địa</th>\n",
              "      <th>GDCD</th>\n",
              "      <th>Khối A</th>\n",
              "      <th>Khối A1</th>\n",
              "      <th>Khối B</th>\n",
              "    </tr>\n",
              "  </thead>\n",
              "  <tbody>\n",
              "    <tr>\n",
              "      <th>0</th>\n",
              "      <td>3</td>\n",
              "      <td>8.4</td>\n",
              "      <td>6.75</td>\n",
              "      <td>10.0</td>\n",
              "      <td>4.00</td>\n",
              "      <td>3.00</td>\n",
              "      <td>3.50</td>\n",
              "      <td>NaN</td>\n",
              "      <td>NaN</td>\n",
              "      <td>NaN</td>\n",
              "      <td>15.40</td>\n",
              "      <td>22.40</td>\n",
              "      <td>14.90</td>\n",
              "    </tr>\n",
              "    <tr>\n",
              "      <th>1</th>\n",
              "      <td>4</td>\n",
              "      <td>8.8</td>\n",
              "      <td>8.25</td>\n",
              "      <td>9.4</td>\n",
              "      <td>8.25</td>\n",
              "      <td>5.75</td>\n",
              "      <td>5.25</td>\n",
              "      <td>NaN</td>\n",
              "      <td>NaN</td>\n",
              "      <td>NaN</td>\n",
              "      <td>22.80</td>\n",
              "      <td>26.45</td>\n",
              "      <td>19.80</td>\n",
              "    </tr>\n",
              "    <tr>\n",
              "      <th>2</th>\n",
              "      <td>6</td>\n",
              "      <td>9.0</td>\n",
              "      <td>5.25</td>\n",
              "      <td>9.0</td>\n",
              "      <td>7.25</td>\n",
              "      <td>4.75</td>\n",
              "      <td>3.50</td>\n",
              "      <td>NaN</td>\n",
              "      <td>NaN</td>\n",
              "      <td>NaN</td>\n",
              "      <td>21.00</td>\n",
              "      <td>25.25</td>\n",
              "      <td>17.25</td>\n",
              "    </tr>\n",
              "    <tr>\n",
              "      <th>3</th>\n",
              "      <td>9</td>\n",
              "      <td>8.8</td>\n",
              "      <td>6.25</td>\n",
              "      <td>9.2</td>\n",
              "      <td>8.75</td>\n",
              "      <td>8.75</td>\n",
              "      <td>3.00</td>\n",
              "      <td>NaN</td>\n",
              "      <td>NaN</td>\n",
              "      <td>NaN</td>\n",
              "      <td>26.30</td>\n",
              "      <td>26.75</td>\n",
              "      <td>20.55</td>\n",
              "    </tr>\n",
              "    <tr>\n",
              "      <th>4</th>\n",
              "      <td>16</td>\n",
              "      <td>7.8</td>\n",
              "      <td>8.00</td>\n",
              "      <td>9.6</td>\n",
              "      <td>7.50</td>\n",
              "      <td>8.00</td>\n",
              "      <td>7.25</td>\n",
              "      <td>NaN</td>\n",
              "      <td>NaN</td>\n",
              "      <td>NaN</td>\n",
              "      <td>23.30</td>\n",
              "      <td>24.90</td>\n",
              "      <td>23.05</td>\n",
              "    </tr>\n",
              "    <tr>\n",
              "      <th>...</th>\n",
              "      <td>...</td>\n",
              "      <td>...</td>\n",
              "      <td>...</td>\n",
              "      <td>...</td>\n",
              "      <td>...</td>\n",
              "      <td>...</td>\n",
              "      <td>...</td>\n",
              "      <td>...</td>\n",
              "      <td>...</td>\n",
              "      <td>...</td>\n",
              "      <td>...</td>\n",
              "      <td>...</td>\n",
              "      <td>...</td>\n",
              "    </tr>\n",
              "    <tr>\n",
              "      <th>324077</th>\n",
              "      <td>899589</td>\n",
              "      <td>7.8</td>\n",
              "      <td>6.50</td>\n",
              "      <td>7.2</td>\n",
              "      <td>7.25</td>\n",
              "      <td>7.25</td>\n",
              "      <td>8.00</td>\n",
              "      <td>NaN</td>\n",
              "      <td>NaN</td>\n",
              "      <td>NaN</td>\n",
              "      <td>22.30</td>\n",
              "      <td>22.25</td>\n",
              "      <td>23.05</td>\n",
              "    </tr>\n",
              "    <tr>\n",
              "      <th>324078</th>\n",
              "      <td>899590</td>\n",
              "      <td>8.6</td>\n",
              "      <td>5.75</td>\n",
              "      <td>4.2</td>\n",
              "      <td>7.50</td>\n",
              "      <td>6.75</td>\n",
              "      <td>6.50</td>\n",
              "      <td>NaN</td>\n",
              "      <td>NaN</td>\n",
              "      <td>NaN</td>\n",
              "      <td>22.85</td>\n",
              "      <td>20.30</td>\n",
              "      <td>21.85</td>\n",
              "    </tr>\n",
              "    <tr>\n",
              "      <th>324079</th>\n",
              "      <td>899591</td>\n",
              "      <td>8.0</td>\n",
              "      <td>6.25</td>\n",
              "      <td>5.2</td>\n",
              "      <td>8.50</td>\n",
              "      <td>7.75</td>\n",
              "      <td>6.75</td>\n",
              "      <td>NaN</td>\n",
              "      <td>NaN</td>\n",
              "      <td>NaN</td>\n",
              "      <td>24.25</td>\n",
              "      <td>21.70</td>\n",
              "      <td>22.50</td>\n",
              "    </tr>\n",
              "    <tr>\n",
              "      <th>324080</th>\n",
              "      <td>899592</td>\n",
              "      <td>7.6</td>\n",
              "      <td>7.00</td>\n",
              "      <td>6.6</td>\n",
              "      <td>7.50</td>\n",
              "      <td>5.50</td>\n",
              "      <td>6.75</td>\n",
              "      <td>NaN</td>\n",
              "      <td>NaN</td>\n",
              "      <td>NaN</td>\n",
              "      <td>20.60</td>\n",
              "      <td>21.70</td>\n",
              "      <td>19.85</td>\n",
              "    </tr>\n",
              "    <tr>\n",
              "      <th>324081</th>\n",
              "      <td>899593</td>\n",
              "      <td>7.8</td>\n",
              "      <td>7.00</td>\n",
              "      <td>7.6</td>\n",
              "      <td>7.25</td>\n",
              "      <td>6.25</td>\n",
              "      <td>8.00</td>\n",
              "      <td>NaN</td>\n",
              "      <td>NaN</td>\n",
              "      <td>NaN</td>\n",
              "      <td>21.30</td>\n",
              "      <td>22.65</td>\n",
              "      <td>22.05</td>\n",
              "    </tr>\n",
              "  </tbody>\n",
              "</table>\n",
              "<p>324082 rows × 13 columns</p>\n",
              "</div>"
            ],
            "text/plain": [
              "         index  Toán   Văn   Anh    Lí  ...  Địa  GDCD  Khối A  Khối A1  Khối B\n",
              "0            3   8.4  6.75  10.0  4.00  ...  NaN   NaN   15.40    22.40   14.90\n",
              "1            4   8.8  8.25   9.4  8.25  ...  NaN   NaN   22.80    26.45   19.80\n",
              "2            6   9.0  5.25   9.0  7.25  ...  NaN   NaN   21.00    25.25   17.25\n",
              "3            9   8.8  6.25   9.2  8.75  ...  NaN   NaN   26.30    26.75   20.55\n",
              "4           16   7.8  8.00   9.6  7.50  ...  NaN   NaN   23.30    24.90   23.05\n",
              "...        ...   ...   ...   ...   ...  ...  ...   ...     ...      ...     ...\n",
              "324077  899589   7.8  6.50   7.2  7.25  ...  NaN   NaN   22.30    22.25   23.05\n",
              "324078  899590   8.6  5.75   4.2  7.50  ...  NaN   NaN   22.85    20.30   21.85\n",
              "324079  899591   8.0  6.25   5.2  8.50  ...  NaN   NaN   24.25    21.70   22.50\n",
              "324080  899592   7.6  7.00   6.6  7.50  ...  NaN   NaN   20.60    21.70   19.85\n",
              "324081  899593   7.8  7.00   7.6  7.25  ...  NaN   NaN   21.30    22.65   22.05\n",
              "\n",
              "[324082 rows x 13 columns]"
            ]
          },
          "metadata": {},
          "execution_count": 76
        }
      ]
    },
    {
      "cell_type": "code",
      "metadata": {
        "colab": {
          "base_uri": "https://localhost:8080/",
          "height": 415
        },
        "id": "3kGYIKkZ2UUN",
        "outputId": "c74cf409-9913-4368-8900-3dd890b2c51c"
      },
      "source": [
        "khxh"
      ],
      "execution_count": 77,
      "outputs": [
        {
          "output_type": "execute_result",
          "data": {
            "text/html": [
              "<div>\n",
              "<style scoped>\n",
              "    .dataframe tbody tr th:only-of-type {\n",
              "        vertical-align: middle;\n",
              "    }\n",
              "\n",
              "    .dataframe tbody tr th {\n",
              "        vertical-align: top;\n",
              "    }\n",
              "\n",
              "    .dataframe thead th {\n",
              "        text-align: right;\n",
              "    }\n",
              "</style>\n",
              "<table border=\"1\" class=\"dataframe\">\n",
              "  <thead>\n",
              "    <tr style=\"text-align: right;\">\n",
              "      <th></th>\n",
              "      <th>index</th>\n",
              "      <th>Toán</th>\n",
              "      <th>Văn</th>\n",
              "      <th>Anh</th>\n",
              "      <th>Lí</th>\n",
              "      <th>Hóa</th>\n",
              "      <th>Sinh</th>\n",
              "      <th>Sử</th>\n",
              "      <th>Địa</th>\n",
              "      <th>GDCD</th>\n",
              "      <th>Khối C</th>\n",
              "    </tr>\n",
              "  </thead>\n",
              "  <tbody>\n",
              "    <tr>\n",
              "      <th>0</th>\n",
              "      <td>0</td>\n",
              "      <td>2.2</td>\n",
              "      <td>3.50</td>\n",
              "      <td>NaN</td>\n",
              "      <td>NaN</td>\n",
              "      <td>NaN</td>\n",
              "      <td>NaN</td>\n",
              "      <td>2.50</td>\n",
              "      <td>5.50</td>\n",
              "      <td>NaN</td>\n",
              "      <td>11.50</td>\n",
              "    </tr>\n",
              "    <tr>\n",
              "      <th>1</th>\n",
              "      <td>1</td>\n",
              "      <td>9.2</td>\n",
              "      <td>8.25</td>\n",
              "      <td>10.0</td>\n",
              "      <td>NaN</td>\n",
              "      <td>NaN</td>\n",
              "      <td>NaN</td>\n",
              "      <td>5.75</td>\n",
              "      <td>9.75</td>\n",
              "      <td>9.25</td>\n",
              "      <td>23.75</td>\n",
              "    </tr>\n",
              "    <tr>\n",
              "      <th>2</th>\n",
              "      <td>2</td>\n",
              "      <td>4.4</td>\n",
              "      <td>6.25</td>\n",
              "      <td>NaN</td>\n",
              "      <td>NaN</td>\n",
              "      <td>NaN</td>\n",
              "      <td>NaN</td>\n",
              "      <td>4.25</td>\n",
              "      <td>4.00</td>\n",
              "      <td>NaN</td>\n",
              "      <td>14.50</td>\n",
              "    </tr>\n",
              "    <tr>\n",
              "      <th>3</th>\n",
              "      <td>5</td>\n",
              "      <td>8.0</td>\n",
              "      <td>8.75</td>\n",
              "      <td>8.6</td>\n",
              "      <td>NaN</td>\n",
              "      <td>NaN</td>\n",
              "      <td>NaN</td>\n",
              "      <td>5.00</td>\n",
              "      <td>6.50</td>\n",
              "      <td>9.25</td>\n",
              "      <td>20.25</td>\n",
              "    </tr>\n",
              "    <tr>\n",
              "      <th>4</th>\n",
              "      <td>7</td>\n",
              "      <td>NaN</td>\n",
              "      <td>7.50</td>\n",
              "      <td>NaN</td>\n",
              "      <td>NaN</td>\n",
              "      <td>NaN</td>\n",
              "      <td>NaN</td>\n",
              "      <td>2.25</td>\n",
              "      <td>7.00</td>\n",
              "      <td>NaN</td>\n",
              "      <td>16.75</td>\n",
              "    </tr>\n",
              "    <tr>\n",
              "      <th>...</th>\n",
              "      <td>...</td>\n",
              "      <td>...</td>\n",
              "      <td>...</td>\n",
              "      <td>...</td>\n",
              "      <td>...</td>\n",
              "      <td>...</td>\n",
              "      <td>...</td>\n",
              "      <td>...</td>\n",
              "      <td>...</td>\n",
              "      <td>...</td>\n",
              "      <td>...</td>\n",
              "    </tr>\n",
              "    <tr>\n",
              "      <th>579147</th>\n",
              "      <td>899582</td>\n",
              "      <td>3.8</td>\n",
              "      <td>5.00</td>\n",
              "      <td>NaN</td>\n",
              "      <td>NaN</td>\n",
              "      <td>NaN</td>\n",
              "      <td>NaN</td>\n",
              "      <td>5.00</td>\n",
              "      <td>NaN</td>\n",
              "      <td>NaN</td>\n",
              "      <td>NaN</td>\n",
              "    </tr>\n",
              "    <tr>\n",
              "      <th>579148</th>\n",
              "      <td>899584</td>\n",
              "      <td>5.8</td>\n",
              "      <td>6.75</td>\n",
              "      <td>NaN</td>\n",
              "      <td>NaN</td>\n",
              "      <td>NaN</td>\n",
              "      <td>NaN</td>\n",
              "      <td>7.00</td>\n",
              "      <td>NaN</td>\n",
              "      <td>NaN</td>\n",
              "      <td>NaN</td>\n",
              "    </tr>\n",
              "    <tr>\n",
              "      <th>579149</th>\n",
              "      <td>899585</td>\n",
              "      <td>3.8</td>\n",
              "      <td>5.00</td>\n",
              "      <td>NaN</td>\n",
              "      <td>NaN</td>\n",
              "      <td>NaN</td>\n",
              "      <td>NaN</td>\n",
              "      <td>7.25</td>\n",
              "      <td>NaN</td>\n",
              "      <td>NaN</td>\n",
              "      <td>NaN</td>\n",
              "    </tr>\n",
              "    <tr>\n",
              "      <th>579150</th>\n",
              "      <td>899587</td>\n",
              "      <td>NaN</td>\n",
              "      <td>5.00</td>\n",
              "      <td>NaN</td>\n",
              "      <td>NaN</td>\n",
              "      <td>NaN</td>\n",
              "      <td>NaN</td>\n",
              "      <td>9.00</td>\n",
              "      <td>8.00</td>\n",
              "      <td>NaN</td>\n",
              "      <td>22.00</td>\n",
              "    </tr>\n",
              "    <tr>\n",
              "      <th>579151</th>\n",
              "      <td>899588</td>\n",
              "      <td>5.2</td>\n",
              "      <td>5.75</td>\n",
              "      <td>4.0</td>\n",
              "      <td>NaN</td>\n",
              "      <td>NaN</td>\n",
              "      <td>NaN</td>\n",
              "      <td>6.00</td>\n",
              "      <td>7.50</td>\n",
              "      <td>8.00</td>\n",
              "      <td>19.25</td>\n",
              "    </tr>\n",
              "  </tbody>\n",
              "</table>\n",
              "<p>579152 rows × 11 columns</p>\n",
              "</div>"
            ],
            "text/plain": [
              "         index  Toán   Văn   Anh  Lí  Hóa  Sinh    Sử   Địa  GDCD  Khối C\n",
              "0            0   2.2  3.50   NaN NaN  NaN   NaN  2.50  5.50   NaN   11.50\n",
              "1            1   9.2  8.25  10.0 NaN  NaN   NaN  5.75  9.75  9.25   23.75\n",
              "2            2   4.4  6.25   NaN NaN  NaN   NaN  4.25  4.00   NaN   14.50\n",
              "3            5   8.0  8.75   8.6 NaN  NaN   NaN  5.00  6.50  9.25   20.25\n",
              "4            7   NaN  7.50   NaN NaN  NaN   NaN  2.25  7.00   NaN   16.75\n",
              "...        ...   ...   ...   ...  ..  ...   ...   ...   ...   ...     ...\n",
              "579147  899582   3.8  5.00   NaN NaN  NaN   NaN  5.00   NaN   NaN     NaN\n",
              "579148  899584   5.8  6.75   NaN NaN  NaN   NaN  7.00   NaN   NaN     NaN\n",
              "579149  899585   3.8  5.00   NaN NaN  NaN   NaN  7.25   NaN   NaN     NaN\n",
              "579150  899587   NaN  5.00   NaN NaN  NaN   NaN  9.00  8.00   NaN   22.00\n",
              "579151  899588   5.2  5.75   4.0 NaN  NaN   NaN  6.00  7.50  8.00   19.25\n",
              "\n",
              "[579152 rows x 11 columns]"
            ]
          },
          "metadata": {},
          "execution_count": 77
        }
      ]
    },
    {
      "cell_type": "code",
      "metadata": {
        "id": "tCAp-y31FhZ1"
      },
      "source": [
        "#hàm thống kê số lượng thí sinh trong một khoảng điểm nhất định    \n",
        "#ví dụ: khối A có 3000 thí sinh đạt được từ 25-26 điểm\n",
        "def point_label(data):  \n",
        "  arr = data.dropna().astype('int32').value_counts().sort_index()\n",
        "  arr_label = [str(i)+'-'+str(i+1) for i in arr.keys()]\n",
        "  if arr_label[-1] == '30-31':\n",
        "    arr_label[-1]='30'\n",
        "  return arr , arr_label    "
      ],
      "execution_count": null,
      "outputs": []
    },
    {
      "cell_type": "code",
      "metadata": {
        "colab": {
          "base_uri": "https://localhost:8080/",
          "height": 352
        },
        "id": "-fzXJ49l-61-",
        "outputId": "11734c18-0e71-4541-d46f-157d376b1a34"
      },
      "source": [
        "\n",
        "values, nums = point_label(khtn['Khối A'])\n",
        "fig = plt.figure(figsize = (16, 5))\n",
        "\n",
        "plt.bar(nums,values, color ='darkblue',\n",
        "        width = 0.4)\n",
        " \n",
        "plt.xlabel(\"Khoảng điểm\")\n",
        "plt.ylabel(\"Số lượng thí sinh\")\n",
        "plt.title(\"PHỔ ĐIỂM KHỐI A\")\n",
        "plt.show()"
      ],
      "execution_count": null,
      "outputs": [
        {
          "output_type": "display_data",
          "data": {
            "image/png": "[encoded data removed]",
            "text/plain": [
              "<Figure size 1152x360 with 1 Axes>"
            ]
          },
          "metadata": {
            "needs_background": "light"
          }
        }
      ]
    },
    {
      "cell_type": "code",
      "metadata": {
        "colab": {
          "base_uri": "https://localhost:8080/"
        },
        "id": "5zVD0drWmUn6",
        "outputId": "fa3e704e-e403-4848-beb9-33d908d14977"
      },
      "source": [
        "khtn['Khối A'].describe()"
      ],
      "execution_count": 81,
      "outputs": [
        {
          "output_type": "execute_result",
          "data": {
            "text/plain": [
              "count    315816.000000\n",
              "mean         21.019924\n",
              "std           3.168541\n",
              "min           5.100000\n",
              "25%          19.150000\n",
              "50%          21.450000\n",
              "75%          23.350000\n",
              "max          29.550000\n",
              "Name: Khối A, dtype: float64"
            ]
          },
          "metadata": {},
          "execution_count": 81
        }
      ]
    },
    {
      "cell_type": "markdown",
      "metadata": {
        "id": "XHsR7eTpmoXY"
      },
      "source": [
        "Nhận xét: \n",
        "\n",
        "1.   Điểm trung bình của khối A là 21.01\n",
        "2.   Nhiều thí sinh đạt được khoảng điểm 22-23 \n",
        "\n",
        "\n"
      ]
    },
    {
      "cell_type": "code",
      "metadata": {
        "colab": {
          "base_uri": "https://localhost:8080/",
          "height": 352
        },
        "id": "oaBMLVyo_van",
        "outputId": "a21a5160-37fa-4bdf-9192-1eb2e8fe557c"
      },
      "source": [
        "values, nums = point_label(khtn['Khối A1'])\n",
        "fig = plt.figure(figsize = (16, 5))\n",
        "\n",
        "plt.bar(nums,values, color ='darkblue',\n",
        "        width = 0.4)\n",
        " \n",
        "plt.xlabel(\"Khoảng điểm\")\n",
        "plt.ylabel(\"Số lượng thí sinh\")\n",
        "plt.title(\"PHỔ ĐIỂM KHỐI A1\")\n",
        "plt.show()"
      ],
      "execution_count": null,
      "outputs": [
        {
          "output_type": "display_data",
          "data": {
            "image/png": "[encoded data removed]",
            "text/plain": [
              "<Figure size 1152x360 with 1 Axes>"
            ]
          },
          "metadata": {
            "needs_background": "light"
          }
        }
      ]
    },
    {
      "cell_type": "code",
      "metadata": {
        "colab": {
          "base_uri": "https://localhost:8080/"
        },
        "id": "oJmtkSWanRa1",
        "outputId": "b77761ef-b3f5-45db-9fc1-ba3dac5d502e"
      },
      "source": [
        "khtn['Khối A1'].describe()"
      ],
      "execution_count": 82,
      "outputs": [
        {
          "output_type": "execute_result",
          "data": {
            "text/plain": [
              "count    305950.000000\n",
              "mean         21.025474\n",
              "std           3.408677\n",
              "min           5.350000\n",
              "25%          18.750000\n",
              "50%          21.300000\n",
              "75%          23.650000\n",
              "max          29.550000\n",
              "Name: Khối A1, dtype: float64"
            ]
          },
          "metadata": {},
          "execution_count": 82
        }
      ]
    },
    {
      "cell_type": "markdown",
      "metadata": {
        "id": "oQRtFwfnnVxZ"
      },
      "source": [
        "Nhận xét:\n",
        "\n",
        "\n",
        "1.   Điểm trung bình khối A1 là 21.02\n",
        "2.   Nhiều thí sinh đạt được ở khoảng điểm 21-22\n",
        "\n"
      ]
    },
    {
      "cell_type": "code",
      "metadata": {
        "colab": {
          "base_uri": "https://localhost:8080/",
          "height": 352
        },
        "id": "OVgvru8jOO5M",
        "outputId": "814ceb39-62d0-482a-d178-41ce557fa9cb"
      },
      "source": [
        "values, nums = point_label(khtn['Khối B'])\n",
        "fig = plt.figure(figsize = (16, 5))\n",
        "\n",
        "plt.bar(nums,values, color ='darkblue',\n",
        "        width = 0.4)\n",
        " \n",
        "plt.xlabel(\"Khoảng điểm\")\n",
        "plt.ylabel(\"Số lượng thí sinh\")\n",
        "plt.title(\"PHỔ ĐIỂM KHỐI B\")\n",
        "plt.show()"
      ],
      "execution_count": null,
      "outputs": [
        {
          "output_type": "display_data",
          "data": {
            "image/png": "[encoded data removed]",
            "text/plain": [
              "<Figure size 1152x360 with 1 Axes>"
            ]
          },
          "metadata": {
            "needs_background": "light"
          }
        }
      ]
    },
    {
      "cell_type": "code",
      "metadata": {
        "colab": {
          "base_uri": "https://localhost:8080/"
        },
        "id": "IzQKByPZnk7l",
        "outputId": "f9b6f846-3da2-4ff2-d538-022c4a5539ca"
      },
      "source": [
        "khtn['Khối B'].describe()"
      ],
      "execution_count": 83,
      "outputs": [
        {
          "output_type": "execute_result",
          "data": {
            "text/plain": [
              "count    313862.000000\n",
              "mean         20.046948\n",
              "std           3.066912\n",
              "min           4.400000\n",
              "25%          18.100000\n",
              "50%          20.250000\n",
              "75%          22.150000\n",
              "max          30.000000\n",
              "Name: Khối B, dtype: float64"
            ]
          },
          "metadata": {},
          "execution_count": 83
        }
      ]
    },
    {
      "cell_type": "markdown",
      "metadata": {
        "id": "RxPp5e1EnkVi"
      },
      "source": [
        "Nhận xét:\n",
        "\n",
        "\n",
        "1.   Điểm trung bình của Khối B là 20.04\n",
        "2.   Khối B cũng có nhiều thí sinh đạt được ở khoảng điểm 20-21\n",
        "\n"
      ]
    },
    {
      "cell_type": "code",
      "metadata": {
        "colab": {
          "base_uri": "https://localhost:8080/",
          "height": 352
        },
        "id": "rdHtUPmRORZQ",
        "outputId": "46c86946-e8d4-453a-8623-6e26fc1c5273"
      },
      "source": [
        "values, nums = point_label(khxh['Khối C'])\n",
        "fig = plt.figure(figsize = (16, 5))\n",
        "\n",
        "plt.bar(nums,values, color ='darkblue',\n",
        "        width = 0.4)\n",
        " \n",
        "plt.xlabel(\"Khoảng điểm\")\n",
        "plt.ylabel(\"Số lượng thí sinh\")\n",
        "plt.title(\"PHỔ ĐIỂM KHỐI C\")\n",
        "plt.show()"
      ],
      "execution_count": null,
      "outputs": [
        {
          "output_type": "display_data",
          "data": {
            "image/png": "[encoded data removed]",
            "text/plain": [
              "<Figure size 1152x360 with 1 Axes>"
            ]
          },
          "metadata": {
            "needs_background": "light"
          }
        }
      ]
    },
    {
      "cell_type": "code",
      "metadata": {
        "colab": {
          "base_uri": "https://localhost:8080/"
        },
        "id": "uG7tXTr7oRl0",
        "outputId": "49a8cb35-b345-4f9b-cf38-b16bd9067e85"
      },
      "source": [
        "khxh['Khối C'].describe()"
      ],
      "execution_count": 84,
      "outputs": [
        {
          "output_type": "execute_result",
          "data": {
            "text/plain": [
              "count    569495.000000\n",
              "mean         18.327375\n",
              "std           3.623555\n",
              "min           0.750000\n",
              "25%          15.750000\n",
              "50%          18.250000\n",
              "75%          20.750000\n",
              "max          29.250000\n",
              "Name: Khối C, dtype: float64"
            ]
          },
          "metadata": {},
          "execution_count": 84
        }
      ]
    },
    {
      "cell_type": "markdown",
      "metadata": {
        "id": "N0Ip9a_moFwk"
      },
      "source": [
        "Nhận xét:\n",
        "\n",
        "\n",
        "1.   Có rất nhiều sinh viên chọn theo khối C\n",
        "2.   Điểm trung bình khối C thấp hơn so với 3 khối thuộc tổ hợp KHTN chỉ 18.32\n",
        "3.   Ở khoảng 18-19 có rất nhiều thí sinh đạt được\n",
        "\n"
      ]
    },
    {
      "cell_type": "code",
      "metadata": {
        "colab": {
          "base_uri": "https://localhost:8080/",
          "height": 352
        },
        "id": "VyUQSbtHOVLb",
        "outputId": "9a076d54-004a-45a4-d275-872f50f58ca9"
      },
      "source": [
        "values, nums = point_label(point_df['Khối D'])\n",
        "fig = plt.figure(figsize = (16, 5))\n",
        "\n",
        "plt.bar(nums,values, color ='darkblue',\n",
        "        width = 0.4)\n",
        " \n",
        "plt.xlabel(\"Khoảng điểm\")\n",
        "plt.ylabel(\"Số lượng thí sinh\")\n",
        "plt.title(\"PHỔ ĐIỂM KHỐI D\")\n",
        "plt.show()"
      ],
      "execution_count": null,
      "outputs": [
        {
          "output_type": "display_data",
          "data": {
            "image/png": "[encoded data removed]",
            "text/plain": [
              "<Figure size 1152x360 with 1 Axes>"
            ]
          },
          "metadata": {
            "needs_background": "light"
          }
        }
      ]
    },
    {
      "cell_type": "code",
      "metadata": {
        "colab": {
          "base_uri": "https://localhost:8080/"
        },
        "id": "_ZJtC1hcoqRP",
        "outputId": "09adc644-0084-41fb-95d7-94ba4a09a235"
      },
      "source": [
        "point_df['Khối D'].describe()"
      ],
      "execution_count": 85,
      "outputs": [
        {
          "output_type": "execute_result",
          "data": {
            "text/plain": [
              "count    788674.000000\n",
              "mean         19.144029\n",
              "std           4.041374\n",
              "min           4.250000\n",
              "25%          16.250000\n",
              "50%          19.300000\n",
              "75%          22.300000\n",
              "max          29.150000\n",
              "Name: Khối D, dtype: float64"
            ]
          },
          "metadata": {},
          "execution_count": 85
        }
      ]
    },
    {
      "cell_type": "markdown",
      "metadata": {
        "id": "hvxi-NaOooTn"
      },
      "source": [
        "Nhận xét:\n",
        "\n",
        "\n",
        "1.   Điểm trung bình của khối D là 19.01 điểm này được tính dựa trên thí sinh tham gia của 2 tổ hợp KHTN và KHXH\n",
        "2.   Số lượng thí sinh đạt được trong các khoảng điểm của Khối D có phần ít chênh lệch hơn so với các khối khác, khoảng điểm từ 18-19 và 19-20 có số lượng thí sinh gần như bằng nhau ngoài ra ở các khoảng điểm khác mức chênh lệch không lớn so với các khoảng điểm gần đó.  \n",
        "\n"
      ]
    },
    {
      "cell_type": "markdown",
      "metadata": {
        "id": "oIHeSCy-pkrB"
      },
      "source": [
        "**Lưu ý: Đó là tất cả số liệu được thống kê từ dữ liệu thi tuyển sinh 2021 và được trực quan hóa bằng biểu đồ cột chỉ mang tính chất tham khảo nhằm mục đích có được một cái nhìn chung vào tình hình thi tuyển sinh năm nay.** "
      ]
    },
    {
      "cell_type": "markdown",
      "metadata": {
        "id": "SBLbXkO0w2jK"
      },
      "source": [
        "Hứa Văn Sơn - RnD MWG "
      ]
    }
  ]
}